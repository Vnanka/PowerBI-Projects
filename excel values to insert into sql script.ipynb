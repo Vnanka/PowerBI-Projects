{
 "cells": [
  {
   "cell_type": "code",
   "execution_count": 2,
   "metadata": {},
   "outputs": [
    {
     "name": "stdout",
     "output_type": "stream",
     "text": [

     ]
    }
   ],
   "source": [
    "import pandas as pd\n",
    "\n",

    "def generate_sql_from_excel(excel_file, table_name, output_sql_file):\n",

    "    df = pd.read_excel(excel_file)\n",
    "    \n",

    "    sql_statements = []\n",
    "    for index, row in df.iterrows():\n",

    "        columns = ', '.join([f\"{col}\" for col in df.columns])\n",
    "        values = ', '.join([f\"'{str(value).replace('\\'', '\\'\\'')}'\" if pd.notna(value) else \"NULL\" for value in row])\n",
    "        \n",

    "        sql = f\"INSERT INTO {table_name} ({columns}) VALUES ({values});\"\n",
    "        sql_statements.append(sql)\n",
    "    \n",

    "    with open(output_sql_file, 'w', encoding='utf-8') as file:\n",
    "        file.write('\\n'.join(sql_statements))\n",
    "    \n",
    "    print(f\"SQL script has been saved to {output_sql_file}\")\n",
    "\n",

    "excel_file = \"C:/Users/vlad loan/Desktop/BBC_Task_2/bbc task/iP_task_user_info copy_excel.xlsx\" \n"
    "table_name = \"iP_task_user_info\"   \n"
    "output_sql_file = \"iP_task_user_info_insert_statements.sql\" \n"
    "\n",
    "generate_sql_from_excel(excel_file, table_name, output_sql_file)\n",
    "\n"
   ]
  },
  {
   "cell_type": "code",
   "execution_count": null,
   "metadata": {},
   "outputs": [],
   "source": []
  }
 ],
 "metadata": {
  "kernelspec": {
   "display_name": "Python 3",
   "language": "python",
   "name": "python3"
  },
  "language_info": {
   "codemirror_mode": {
    "name": "ipython",
    "version": 3
   },
   "file_extension": ".py",
   "mimetype": "text/x-python",
   "name": "python",
   "nbconvert_exporter": "python",
   "pygments_lexer": "ipython3",
   "version": "3.12.8"
  }
 },
 "nbformat": 4,
 "nbformat_minor": 2
}
